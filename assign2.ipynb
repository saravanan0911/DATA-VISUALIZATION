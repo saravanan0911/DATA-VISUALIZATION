{
 "cells": [
  {
   "cell_type": "code",
   "execution_count": 6,
   "id": "6e79e4ba",
   "metadata": {},
   "outputs": [],
   "source": [
    "import matplotlib as mpl\n",
    "import matplotlib.pyplot as plt\n",
    "import pandas as pd\n",
    "import numpy as np\n",
    "from numpy.random import randn, randint, uniform, sample\n"
   ]
  },
  {
   "cell_type": "code",
   "execution_count": 10,
   "id": "b37cf163",
   "metadata": {},
   "outputs": [],
   "source": [
    "df = pd.DataFrame(randn(10,4), columns=['a','b','c','d'])"
   ]
  },
  {
   "cell_type": "code",
   "execution_count": 12,
   "id": "6dac3ec6",
   "metadata": {},
   "outputs": [
    {
     "data": {
      "text/html": [
       "<div>\n",
       "<style scoped>\n",
       "    .dataframe tbody tr th:only-of-type {\n",
       "        vertical-align: middle;\n",
       "    }\n",
       "\n",
       "    .dataframe tbody tr th {\n",
       "        vertical-align: top;\n",
       "    }\n",
       "\n",
       "    .dataframe thead th {\n",
       "        text-align: right;\n",
       "    }\n",
       "</style>\n",
       "<table border=\"1\" class=\"dataframe\">\n",
       "  <thead>\n",
       "    <tr style=\"text-align: right;\">\n",
       "      <th></th>\n",
       "      <th>a</th>\n",
       "      <th>b</th>\n",
       "      <th>c</th>\n",
       "      <th>d</th>\n",
       "    </tr>\n",
       "  </thead>\n",
       "  <tbody>\n",
       "    <tr>\n",
       "      <th>0</th>\n",
       "      <td>-0.250518</td>\n",
       "      <td>-0.806227</td>\n",
       "      <td>1.286523</td>\n",
       "      <td>0.984359</td>\n",
       "    </tr>\n",
       "    <tr>\n",
       "      <th>1</th>\n",
       "      <td>-0.758708</td>\n",
       "      <td>-0.361661</td>\n",
       "      <td>0.134626</td>\n",
       "      <td>0.142065</td>\n",
       "    </tr>\n",
       "    <tr>\n",
       "      <th>2</th>\n",
       "      <td>0.676785</td>\n",
       "      <td>0.510115</td>\n",
       "      <td>0.055891</td>\n",
       "      <td>0.441155</td>\n",
       "    </tr>\n",
       "    <tr>\n",
       "      <th>3</th>\n",
       "      <td>-0.743274</td>\n",
       "      <td>-0.511664</td>\n",
       "      <td>1.925274</td>\n",
       "      <td>0.431620</td>\n",
       "    </tr>\n",
       "    <tr>\n",
       "      <th>4</th>\n",
       "      <td>0.013547</td>\n",
       "      <td>0.143080</td>\n",
       "      <td>1.304430</td>\n",
       "      <td>0.411701</td>\n",
       "    </tr>\n",
       "    <tr>\n",
       "      <th>5</th>\n",
       "      <td>0.212586</td>\n",
       "      <td>-1.057924</td>\n",
       "      <td>-1.450225</td>\n",
       "      <td>0.555924</td>\n",
       "    </tr>\n",
       "    <tr>\n",
       "      <th>6</th>\n",
       "      <td>-0.053448</td>\n",
       "      <td>-0.502390</td>\n",
       "      <td>1.387855</td>\n",
       "      <td>-0.178283</td>\n",
       "    </tr>\n",
       "    <tr>\n",
       "      <th>7</th>\n",
       "      <td>-0.802335</td>\n",
       "      <td>-0.508506</td>\n",
       "      <td>2.138649</td>\n",
       "      <td>1.370576</td>\n",
       "    </tr>\n",
       "    <tr>\n",
       "      <th>8</th>\n",
       "      <td>-0.039201</td>\n",
       "      <td>0.126362</td>\n",
       "      <td>0.303066</td>\n",
       "      <td>-0.059699</td>\n",
       "    </tr>\n",
       "    <tr>\n",
       "      <th>9</th>\n",
       "      <td>-0.779884</td>\n",
       "      <td>0.735053</td>\n",
       "      <td>-0.709079</td>\n",
       "      <td>-0.066794</td>\n",
       "    </tr>\n",
       "  </tbody>\n",
       "</table>\n",
       "</div>"
      ],
      "text/plain": [
       "          a         b         c         d\n",
       "0 -0.250518 -0.806227  1.286523  0.984359\n",
       "1 -0.758708 -0.361661  0.134626  0.142065\n",
       "2  0.676785  0.510115  0.055891  0.441155\n",
       "3 -0.743274 -0.511664  1.925274  0.431620\n",
       "4  0.013547  0.143080  1.304430  0.411701\n",
       "5  0.212586 -1.057924 -1.450225  0.555924\n",
       "6 -0.053448 -0.502390  1.387855 -0.178283\n",
       "7 -0.802335 -0.508506  2.138649  1.370576\n",
       "8 -0.039201  0.126362  0.303066 -0.059699\n",
       "9 -0.779884  0.735053 -0.709079 -0.066794"
      ]
     },
     "execution_count": 12,
     "metadata": {},
     "output_type": "execute_result"
    }
   ],
   "source": [
    "df\n"
   ]
  },
  {
   "cell_type": "code",
   "execution_count": 21,
   "id": "14d99ada",
   "metadata": {},
   "outputs": [
    {
     "data": {
      "text/plain": [
       "Text(0, 0.5, 'Y-Axis')"
      ]
     },
     "execution_count": 21,
     "metadata": {},
     "output_type": "execute_result"
    },
    {
     "data": {
      "image/png": "[encoded data removed]",
      "text/plain": [
       "<Figure size 720x720 with 1 Axes>"
      ]
     },
     "metadata": {
      "needs_background": "light"
     },
     "output_type": "display_data"
    }
   ],
   "source": [
    "df.plot(kind='bar',figsize=(10,10))\n",
    "plt.title(\"Bar graph of data frame\",size=30)\n",
    "plt.xlabel(\"X-Axis\",size=20)\n",
    "plt.ylabel(\"Y-Axis\",size=20)"
   ]
  },
  {
   "cell_type": "code",
   "execution_count": null,
   "id": "83e51f64",
   "metadata": {},
   "outputs": [],
   "source": []
  }
 ],
 "metadata": {
  "kernelspec": {
   "display_name": "Python 3",
   "language": "python",
   "name": "python3"
  },
  "language_info": {
   "codemirror_mode": {
    "name": "ipython",
    "version": 3
   },
   "file_extension": ".py",
   "mimetype": "text/x-python",
   "name": "python",
   "nbconvert_exporter": "python",
   "pygments_lexer": "ipython3",
   "version": "3.8.8"
  }
 },
 "nbformat": 4,
 "nbformat_minor": 5
}
